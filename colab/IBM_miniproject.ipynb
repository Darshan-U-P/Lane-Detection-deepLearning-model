{
  "nbformat": 4,
  "nbformat_minor": 0,
  "metadata": {
    "colab": {
      "provenance": [],
      "gpuType": "T4"
    },
    "kernelspec": {
      "name": "python3",
      "display_name": "Python 3"
    },
    "language_info": {
      "name": "python"
    },
    "accelerator": "GPU"
  },
  "cells": [
    {
      "cell_type": "code",
      "execution_count": null,
      "metadata": {
        "id": "UudSDJ5Iwam9",
        "colab": {
          "base_uri": "https://localhost:8080/"
        },
        "outputId": "bd0b941b-9edb-4796-a11b-4dde0fd8d0e9"
      },
      "outputs": [
        {
          "output_type": "stream",
          "name": "stdout",
          "text": [
            "Drive already mounted at /content/drive; to attempt to forcibly remount, call drive.mount(\"/content/drive\", force_remount=True).\n"
          ]
        }
      ],
      "source": [
        "# Mount Drive (recommended so outputs persist)\n",
        "from google.colab import drive\n",
        "drive.mount('/content/drive')\n",
        "\n",
        "# Install dependencies\n",
        "!pip install --quiet kaggle opencv-python-headless tqdm numpy\n"
      ]
    },
    {
      "cell_type": "code",
      "source": [
        "!mkdir -p /root/.kaggle\n",
        "!cp \"/content/drive/MyDrive/kaggle/kaggle.json\" /root/.kaggle/kaggle.json\n",
        "!chmod 600 /root/.kaggle/kaggle.json\n"
      ],
      "metadata": {
        "id": "thpnHgwm0w7D"
      },
      "execution_count": null,
      "outputs": []
    },
    {
      "cell_type": "code",
      "source": [
        "# target folder\n",
        "!pip install kagglehub --quiet\n"
      ],
      "metadata": {
        "id": "O2PLZJ6k1Z0L"
      },
      "execution_count": null,
      "outputs": []
    },
    {
      "cell_type": "code",
      "metadata": {
        "colab": {
          "base_uri": "https://localhost:8080/"
        },
        "id": "46c983c1",
        "outputId": "6bc9b830-2730-49ce-c54c-7040d9a0b1e9"
      },
      "source": [
        "import kagglehub\n",
        "\n",
        "# Download latest version\n",
        "path = kagglehub.dataset_download(\"manideep1108/tusimple\")\n",
        "\n",
        "print(\"Path to dataset files:\", path)\n"
      ],
      "execution_count": null,
      "outputs": [
        {
          "output_type": "stream",
          "name": "stdout",
          "text": [
            "Downloading from https://www.kaggle.com/api/v1/datasets/download/manideep1108/tusimple?dataset_version_number=5...\n"
          ]
        },
        {
          "output_type": "stream",
          "name": "stderr",
          "text": [
            "100%|██████████| 21.6G/21.6G [03:52<00:00, 100MB/s] "
          ]
        },
        {
          "output_type": "stream",
          "name": "stdout",
          "text": [
            "Extracting files...\n"
          ]
        },
        {
          "output_type": "stream",
          "name": "stderr",
          "text": [
            "\n"
          ]
        },
        {
          "output_type": "stream",
          "name": "stdout",
          "text": [
            "Path to dataset files: /root/.cache/kagglehub/datasets/manideep1108/tusimple/versions/5\n"
          ]
        }
      ]
    },
    {
      "cell_type": "code",
      "source": [
        "# install libs\n",
        "!pip install --quiet kagglehub opencv-python-headless torch torchvision torchaudio --upgrade\n",
        "!pip install --quiet matplotlib tqdm albumentations gradio"
      ],
      "metadata": {
        "id": "5BihF43Q8kHr"
      },
      "execution_count": null,
      "outputs": []
    },
    {
      "cell_type": "code",
      "source": [
        "# RESET (optional): clears previous tmp folders if they exist\n",
        "!rm -rf /content/tmp_lane\n",
        "!mkdir -p /content/tmp_lane\n",
        "\n",
        "# Deps\n",
        "!pip install --quiet kagglehub opencv-python-headless torch torchvision torchaudio tqdm\n",
        "\n",
        "import os, random, numpy as np, torch\n",
        "random.seed(42); np.random.seed(42); torch.manual_seed(42)\n",
        "\n",
        "# Paths\n",
        "RAW_ROOT   = \"/root/.cache/kagglehub/datasets/manideep1108/tusimple/versions/5\"  # already downloaded via kagglehub\n",
        "WORK_ROOT  = \"/content/tmp_lane\"\n",
        "IMG_DIR    = f\"{WORK_ROOT}/images\"\n",
        "MSK_DIR    = f\"{WORK_ROOT}/masks\"\n",
        "SPLIT_DIR  = f\"{WORK_ROOT}/split\"\n",
        "MODEL_OUT  = f\"{WORK_ROOT}/unet_best.pt\"   # final model (we'll download this)\n",
        "DEMO_VID   = f\"{WORK_ROOT}/demo_pred.mp4\"  # optional demo\n",
        "\n",
        "for d in [IMG_DIR, MSK_DIR, SPLIT_DIR]:\n",
        "    os.makedirs(d, exist_ok=True)\n",
        "\n",
        "print(\"RAW_ROOT:\", RAW_ROOT)\n",
        "print(\"IMG_DIR:\", IMG_DIR)\n",
        "print(\"MSK_DIR:\", MSK_DIR)\n",
        "print(\"SPLIT_DIR:\", SPLIT_DIR)\n",
        "print(\"MODEL_OUT:\", MODEL_OUT)\n"
      ],
      "metadata": {
        "colab": {
          "base_uri": "https://localhost:8080/"
        },
        "id": "Z8G7ggVcLpiz",
        "outputId": "716fa93e-e231-4bf6-b341-423d7f752b5e"
      },
      "execution_count": null,
      "outputs": [
        {
          "output_type": "stream",
          "name": "stdout",
          "text": [
            "RAW_ROOT: /root/.cache/kagglehub/datasets/manideep1108/tusimple/versions/5\n",
            "IMG_DIR: /content/tmp_lane/images\n",
            "MSK_DIR: /content/tmp_lane/masks\n",
            "SPLIT_DIR: /content/tmp_lane/split\n",
            "MODEL_OUT: /content/tmp_lane/unet_best.pt\n"
          ]
        }
      ]
    },
    {
      "cell_type": "code",
      "source": [
        "# ==== CLEAN START ====\n",
        "!pip -q install kagglehub opencv-python-headless torch torchvision torchaudio tqdm\n",
        "\n",
        "import os, shutil\n",
        "RAW_ROOT = \"/root/.cache/kagglehub/datasets/manideep1108/tusimple/versions/5\"  # kagglehub path you printed\n",
        "TMP_ROOT = \"/content/tmp_lane\"\n",
        "IMG_DIR  = f\"{TMP_ROOT}/images\"\n",
        "MSK_DIR  = f\"{TMP_ROOT}/masks\"\n",
        "SPLIT    = f\"{TMP_ROOT}/split\"\n",
        "MODEL_OUT = \"/content/unet_best.pt\"\n",
        "\n",
        "# wipe old tmp\n",
        "for d in [IMG_DIR, MSK_DIR, SPLIT]:\n",
        "    if os.path.exists(d): shutil.rmtree(d)\n",
        "    os.makedirs(d, exist_ok=True)\n",
        "\n",
        "print(\"RAW_ROOT:\", RAW_ROOT)\n",
        "print(\"IMG_DIR:\", IMG_DIR)\n",
        "print(\"MSK_DIR:\", MSK_DIR)\n",
        "print(\"SPLIT:\", SPLIT)\n",
        "print(\"MODEL_OUT:\", MODEL_OUT)\n"
      ],
      "metadata": {
        "colab": {
          "base_uri": "https://localhost:8080/"
        },
        "id": "7OU3iPpNiMn0",
        "outputId": "12e95f39-6f9e-4236-fc76-f9d07848762c"
      },
      "execution_count": null,
      "outputs": [
        {
          "output_type": "stream",
          "name": "stdout",
          "text": [
            "RAW_ROOT: /root/.cache/kagglehub/datasets/manideep1108/tusimple/versions/5\n",
            "IMG_DIR: /content/tmp_lane/images\n",
            "MSK_DIR: /content/tmp_lane/masks\n",
            "SPLIT: /content/tmp_lane/split\n",
            "MODEL_OUT: /content/unet_best.pt\n"
          ]
        }
      ]
    },
    {
      "cell_type": "code",
      "source": [
        "import os, glob, json, cv2, numpy as np\n",
        "from tqdm import tqdm\n",
        "\n",
        "RAW_ROOT = \"/root/.cache/kagglehub/datasets/manideep1108/tusimple/versions/5\"\n",
        "IMG_DIR  = \"/content/tmp_lane/images\"\n",
        "MSK_DIR  = \"/content/tmp_lane/masks\"\n",
        "RESIZE   = (512, 256)  # (W,H)\n",
        "\n",
        "os.makedirs(IMG_DIR, exist_ok=True)\n",
        "os.makedirs(MSK_DIR, exist_ok=True)\n",
        "\n",
        "# --- find label files (prefer train labels; skip test) ---\n",
        "all_labels = sorted(glob.glob(os.path.join(RAW_ROOT, \"**\", \"*label*.json\"), recursive=True))\n",
        "train_labels = [p for p in all_labels if \"test\" not in os.path.basename(p).lower()]\n",
        "if not train_labels:\n",
        "    # fallback: any jsons that look like train\n",
        "    all_jsons = sorted(glob.glob(os.path.join(RAW_ROOT, \"**\", \"*.json\"), recursive=True))\n",
        "    train_labels = [p for p in all_jsons if (\"label\" in os.path.basename(p).lower() and \"test\" not in os.path.basename(p).lower())]\n",
        "print(\"Found label files:\", [os.path.basename(x) for x in train_labels])\n",
        "\n",
        "# --- helper to stream entries from json/jsonlines ---\n",
        "def stream_entries(path, limit=None):\n",
        "    n = 0\n",
        "    with open(path, 'r') as f:\n",
        "        first = f.read(1); f.seek(0)\n",
        "        if first == '[':\n",
        "            data = json.load(f)\n",
        "            for e in data:\n",
        "                yield e\n",
        "                n += 1\n",
        "                if limit and n >= limit: break\n",
        "        else:\n",
        "            for line in f:\n",
        "                line = line.strip()\n",
        "                if not line: continue\n",
        "                try:\n",
        "                    e = json.loads(line)\n",
        "                    yield e\n",
        "                    n += 1\n",
        "                    if limit and n >= limit: break\n",
        "                except:\n",
        "                    pass\n",
        "\n",
        "# --- choose the correct DATA_BASE by checking where raw_file exists ---\n",
        "def detect_base(raw_root, labels):\n",
        "    # candidates: any directory that contains \"clips\" and its parent chain\n",
        "    clip_dirs = sorted(glob.glob(os.path.join(raw_root, \"**\", \"clips\"), recursive=True), key=len)\n",
        "    candidates = set()\n",
        "    for c in clip_dirs:\n",
        "        d = os.path.dirname(c)              # .../train_set (or root with clips)\n",
        "        candidates.add(d)\n",
        "        candidates.add(os.path.dirname(d))  # parent as fallback\n",
        "    candidates = [c for c in candidates if os.path.isdir(c)]\n",
        "    if not candidates:\n",
        "        return None\n",
        "\n",
        "    # collect a few sample raw_file names from first label\n",
        "    sample_label = labels[0]\n",
        "    samples = []\n",
        "    for e in stream_entries(sample_label, limit=50):\n",
        "        rf = e.get('raw_file') or e.get('raw_files') or e.get('raw')\n",
        "        if rf: samples.append(rf.lstrip(\"/\"))\n",
        "    samples = samples[:20]\n",
        "\n",
        "    best_base = None\n",
        "    best_hits = -1\n",
        "    for base in candidates:\n",
        "        hits = 0\n",
        "        for rf in samples:\n",
        "            if os.path.exists(os.path.join(base, rf)):\n",
        "                hits += 1\n",
        "        if hits > best_hits:\n",
        "            best_hits = hits\n",
        "            best_base = base\n",
        "    return best_base, best_hits\n",
        "\n",
        "DATA_BASE, hits = detect_base(RAW_ROOT, train_labels)\n",
        "print(\"Detected DATA_BASE:\", DATA_BASE, \"| sample hits:\", hits)\n",
        "assert DATA_BASE and hits > 0, \"Failed to locate base with images. Check RAW_ROOT or dataset integrity.\"\n",
        "\n",
        "# --- preprocess to images + masks (unique names) ---\n",
        "count = 0\n",
        "for jf in train_labels:\n",
        "    entries = stream_entries(jf)\n",
        "    file_count = 0\n",
        "    for e in tqdm(entries, desc=os.path.basename(jf)):\n",
        "        rf = e.get('raw_file') or e.get('raw_files') or e.get('raw')\n",
        "        lanes = e.get('lanes', [])\n",
        "        h_samples = e.get('h_samples', [])\n",
        "        if not (rf and lanes and h_samples):\n",
        "            continue\n",
        "\n",
        "        img_path = os.path.join(DATA_BASE, rf.lstrip(\"/\"))\n",
        "        if not os.path.exists(img_path):\n",
        "            continue\n",
        "\n",
        "        img = cv2.imread(img_path)\n",
        "        if img is None:\n",
        "            continue\n",
        "\n",
        "        h, w = img.shape[:2]\n",
        "        mask = np.zeros((h, w), dtype=np.uint8)\n",
        "\n",
        "        # draw lane polylines\n",
        "        for xs in lanes:\n",
        "            pts = []\n",
        "            for x, y in zip(xs, h_samples):\n",
        "                try:\n",
        "                    xi = int(x)\n",
        "                except:\n",
        "                    continue\n",
        "                if 0 < xi < w:\n",
        "                    pts.append((xi, int(y)))\n",
        "            if len(pts) >= 2:\n",
        "                cv2.polylines(mask, [np.array(pts, np.int32)], False, 255, 12)\n",
        "\n",
        "        # light dilate to connect gaps\n",
        "        mask = cv2.dilate(mask, np.ones((5,5), np.uint8), iterations=1)\n",
        "\n",
        "        # resize for speed/VRAM\n",
        "        img  = cv2.resize(img,  RESIZE)\n",
        "        mask = cv2.resize(mask, RESIZE, interpolation=cv2.INTER_NEAREST)\n",
        "\n",
        "        # unique filename from relative path\n",
        "        fname = rf.replace(\"/\", \"_\")\n",
        "        img_out = os.path.join(IMG_DIR, fname)                                 # jpg\n",
        "        msk_out = os.path.join(MSK_DIR, os.path.splitext(fname)[0] + \".png\")   # png\n",
        "\n",
        "        cv2.imwrite(img_out, img,  [cv2.IMWRITE_JPEG_QUALITY, 85])\n",
        "        cv2.imwrite(msk_out, mask, [cv2.IMWRITE_PNG_COMPRESSION, 1])\n",
        "        count += 1\n",
        "        file_count += 1\n",
        "    print(f\"{os.path.basename(jf)} -> {file_count} pairs\")\n",
        "\n",
        "print(\"\\nProcessed pairs:\", count)\n",
        "print(\"Images ->\", IMG_DIR, \"count:\", len(os.listdir(IMG_DIR)))\n",
        "print(\"Masks  ->\", MSK_DIR, \"count:\", len(os.listdir(MSK_DIR)))\n",
        "assert len(os.listdir(IMG_DIR)) > 0, \"0 pairs created. If this triggers, print DATA_BASE and sample rf to debug.\"\n"
      ],
      "metadata": {
        "colab": {
          "base_uri": "https://localhost:8080/"
        },
        "id": "zPPMVO8aLxnj",
        "outputId": "15fe40b0-0f0f-4326-cbd1-a8ac3ec6287c"
      },
      "execution_count": null,
      "outputs": [
        {
          "output_type": "stream",
          "name": "stdout",
          "text": [
            "Found label files: ['label_data_0313.json', 'label_data_0531.json', 'label_data_0601.json']\n",
            "Detected DATA_BASE: /root/.cache/kagglehub/datasets/manideep1108/tusimple/versions/5/TUSimple/train_set | sample hits: 20\n"
          ]
        },
        {
          "output_type": "stream",
          "name": "stderr",
          "text": [
            "label_data_0313.json: 2858it [00:35, 79.60it/s]\n"
          ]
        },
        {
          "output_type": "stream",
          "name": "stdout",
          "text": [
            "label_data_0313.json -> 2858 pairs\n"
          ]
        },
        {
          "output_type": "stream",
          "name": "stderr",
          "text": [
            "label_data_0531.json: 358it [00:04, 80.33it/s]\n"
          ]
        },
        {
          "output_type": "stream",
          "name": "stdout",
          "text": [
            "label_data_0531.json -> 358 pairs\n"
          ]
        },
        {
          "output_type": "stream",
          "name": "stderr",
          "text": [
            "label_data_0601.json: 410it [00:03, 109.47it/s]"
          ]
        },
        {
          "output_type": "stream",
          "name": "stdout",
          "text": [
            "label_data_0601.json -> 410 pairs\n",
            "\n",
            "Processed pairs: 3626\n",
            "Images -> /content/tmp_lane/images count: 3626\n",
            "Masks  -> /content/tmp_lane/masks count: 3626\n"
          ]
        },
        {
          "output_type": "stream",
          "name": "stderr",
          "text": [
            "\n"
          ]
        }
      ]
    },
    {
      "cell_type": "code",
      "source": [
        "import os, shutil, random\n",
        "\n",
        "IMG_DIR = \"/content/tmp_lane/images\"\n",
        "MSK_DIR = \"/content/tmp_lane/masks\"\n",
        "SPLIT   = \"/content/tmp_lane/split\"\n",
        "\n",
        "# reset split dirs\n",
        "if os.path.exists(SPLIT): shutil.rmtree(SPLIT)\n",
        "train_img = f\"{SPLIT}/train/images\"; train_msk = f\"{SPLIT}/train/masks\"\n",
        "val_img   = f\"{SPLIT}/val/images\";   val_msk   = f\"{SPLIT}/val/masks\"\n",
        "for d in [train_img, train_msk, val_img, val_msk]:\n",
        "    os.makedirs(d, exist_ok=True)\n",
        "\n",
        "# pair images with masks (masks saved as .png)\n",
        "files = []\n",
        "for f in sorted(os.listdir(IMG_DIR)):\n",
        "    b,_ = os.path.splitext(f)\n",
        "    m = b + \".png\"\n",
        "    if os.path.exists(os.path.join(MSK_DIR, m)):\n",
        "        files.append((f, m))\n",
        "\n",
        "random.seed(42); random.shuffle(files)\n",
        "n = len(files); nval = max(1, int(0.1*n))\n",
        "val_pairs   = files[:nval]\n",
        "train_pairs = files[nval:]\n",
        "\n",
        "for f, m in train_pairs:\n",
        "    shutil.copy(os.path.join(IMG_DIR, f), os.path.join(train_img, f))\n",
        "    shutil.copy(os.path.join(MSK_DIR, m), os.path.join(train_msk, m))\n",
        "for f, m in val_pairs:\n",
        "    shutil.copy(os.path.join(IMG_DIR, f), os.path.join(val_img, f))\n",
        "    shutil.copy(os.path.join(MSK_DIR, m), os.path.join(val_msk, m))\n",
        "\n",
        "print(\"Train images:\", len(os.listdir(train_img)), \" Val images:\", len(os.listdir(val_img)))\n"
      ],
      "metadata": {
        "colab": {
          "base_uri": "https://localhost:8080/"
        },
        "id": "kIZNoSk7f1ub",
        "outputId": "f4ee8ae7-5aa9-459c-feb7-9dc38c6b4067"
      },
      "execution_count": null,
      "outputs": [
        {
          "output_type": "stream",
          "name": "stdout",
          "text": [
            "Train images: 3264  Val images: 362\n"
          ]
        }
      ]
    },
    {
      "cell_type": "code",
      "source": [
        "%%bash\n",
        "cat > /content/train_lane_unet.py << 'PY'\n",
        "#!/usr/bin/env python3\n",
        "# train_lane_unet.py\n",
        "# Tiny U-Net for lane segmentation (binary). Mixed-precision, saves best checkpoint.\n",
        "\n",
        "import os\n",
        "import argparse\n",
        "import random\n",
        "import numpy as np\n",
        "import cv2\n",
        "import torch\n",
        "import torch.nn as nn\n",
        "from torch.utils.data import Dataset, DataLoader\n",
        "import torchvision.transforms.functional as TF\n",
        "from torch.cuda.amp import autocast, GradScaler\n",
        "\n",
        "# ------------- Utils -------------\n",
        "def set_seed(seed=42):\n",
        "    random.seed(seed); np.random.seed(seed); torch.manual_seed(seed); torch.cuda.manual_seed_all(seed)\n",
        "    torch.backends.cudnn.deterministic = False\n",
        "    torch.backends.cudnn.benchmark = True   # speed\n",
        "\n",
        "def count_files(d):\n",
        "    return len(os.listdir(d)) if os.path.isdir(d) else 0\n",
        "\n",
        "# ------------- Model -------------\n",
        "class DoubleConv(nn.Module):\n",
        "    def __init__(self, i, o):\n",
        "        super().__init__()\n",
        "        self.net = nn.Sequential(\n",
        "            nn.Conv2d(i, o, 3, padding=1), nn.ReLU(True),\n",
        "            nn.Conv2d(o, o, 3, padding=1), nn.ReLU(True),\n",
        "        )\n",
        "    def forward(self, x): return self.net(x)\n",
        "\n",
        "class TinyUNet(nn.Module):\n",
        "    def __init__(self, base=32, in_ch=3, out_ch=1):\n",
        "        super().__init__()\n",
        "        self.e1 = DoubleConv(in_ch, base)\n",
        "        self.p  = nn.MaxPool2d(2)\n",
        "        self.e2 = DoubleConv(base, base*2)\n",
        "        self.e3 = DoubleConv(base*2, base*4)\n",
        "        self.u2 = nn.ConvTranspose2d(base*4, base*2, 2, 2)\n",
        "        self.d2 = DoubleConv(base*4, base*2)\n",
        "        self.u1 = nn.ConvTranspose2d(base*2, base, 2, 2)\n",
        "        self.d1 = DoubleConv(base*2, base)\n",
        "        self.out= nn.Conv2d(base, out_ch, 1)\n",
        "    def forward(self, x):\n",
        "        e1 = self.e1(x)\n",
        "        e2 = self.e2(self.p(e1))\n",
        "        e3 = self.e3(self.p(e2))\n",
        "        d2 = self.u2(e3)\n",
        "        d2 = self.d2(torch.cat([d2, e2], 1))\n",
        "        d1 = self.u1(d2)\n",
        "        d1 = self.d1(torch.cat([d1, e1], 1))\n",
        "        return self.out(d1)\n",
        "\n",
        "# ------------- Dataset -------------\n",
        "class LaneDataset(Dataset):\n",
        "    def __init__(self, img_dir, msk_dir, size=(512,256), augment=True):\n",
        "        self.img_dir, self.msk_dir = img_dir, msk_dir\n",
        "        self.size = size\n",
        "        self.augment = augment\n",
        "        # images can be .jpg/.png; masks must be .png (binary)\n",
        "        self.imgs = sorted([os.path.join(img_dir, f) for f in os.listdir(img_dir)])\n",
        "        self.msks = []\n",
        "        for ip in self.imgs:\n",
        "            b = os.path.splitext(os.path.basename(ip))[0]\n",
        "            mp = os.path.join(msk_dir, b + \".png\")\n",
        "            if not os.path.exists(mp):\n",
        "                raise FileNotFoundError(f\"Mask not found for {ip}: {mp}\")\n",
        "            self.msks.append(mp)\n",
        "        assert len(self.imgs) == len(self.msks) and len(self.imgs) > 0, \"Empty dataset or mismatch.\"\n",
        "\n",
        "    def __len__(self): return len(self.imgs)\n",
        "\n",
        "    def __getitem__(self, i):\n",
        "        img = cv2.imread(self.imgs[i])[:,:,::-1]\n",
        "        msk = cv2.imread(self.msks[i], cv2.IMREAD_GRAYSCALE)\n",
        "        # resize\n",
        "        img = cv2.resize(img, self.size)  # (W,H)\n",
        "        msk = cv2.resize(msk, self.size, interpolation=cv2.INTER_NEAREST)\n",
        "        # normalize\n",
        "        img = img.astype(np.float32) / 255.0\n",
        "        msk = (msk > 127).astype(np.float32)\n",
        "        # to tensors\n",
        "        img_t = torch.from_numpy(img.transpose(2,0,1)).float()\n",
        "        msk_t = torch.from_numpy(msk)[None].float()\n",
        "        # light aug\n",
        "        if self.augment and np.random.rand() < 0.5:\n",
        "            img_t = TF.hflip(img_t)\n",
        "            msk_t = TF.hflip(msk_t)\n",
        "        return img_t, msk_t\n",
        "\n",
        "# ------------- Training -------------\n",
        "def validate(model, loader, device, crit):\n",
        "    model.eval()\n",
        "    loss_sum = 0.0\n",
        "    with torch.no_grad(), autocast(enabled=True):\n",
        "        for x, y in loader:\n",
        "            x = x.to(device, non_blocking=True)\n",
        "            y = y.to(device, non_blocking=True)\n",
        "            p = model(x)\n",
        "            loss_sum += crit(p, y).item()\n",
        "    return loss_sum / max(1, len(loader))\n",
        "\n",
        "def train(cfg):\n",
        "    set_seed(cfg.seed)\n",
        "    device = torch.device('cuda' if torch.cuda.is_available() and not cfg.cpu else 'cpu')\n",
        "\n",
        "    # data\n",
        "    train_ds = LaneDataset(os.path.join(cfg.train_dir, \"images\"),\n",
        "                           os.path.join(cfg.train_dir, \"masks\"),\n",
        "                           size=(cfg.width, cfg.height), augment=True)\n",
        "    val_ds   = LaneDataset(os.path.join(cfg.val_dir, \"images\"),\n",
        "                           os.path.join(cfg.val_dir, \"masks\"),\n",
        "                           size=(cfg.width, cfg.height), augment=False)\n",
        "\n",
        "    train_loader = DataLoader(train_ds, batch_size=cfg.batch_size, shuffle=True,\n",
        "                              num_workers=cfg.workers, pin_memory=True, persistent_workers=False)\n",
        "    val_loader   = DataLoader(val_ds,   batch_size=max(1, cfg.batch_size//2), shuffle=False,\n",
        "                              num_workers=max(1, cfg.workers//2), pin_memory=True, persistent_workers=False)\n",
        "\n",
        "    # model/opt\n",
        "    model = TinyUNet(base=cfg.base).to(device)\n",
        "    opt = torch.optim.Adam(model.parameters(), lr=cfg.lr)\n",
        "    crit = nn.BCEWithLogitsLoss()\n",
        "    scaler = GradScaler(enabled=not cfg.no_amp)\n",
        "\n",
        "    os.makedirs(os.path.dirname(cfg.out), exist_ok=True) if os.path.dirname(cfg.out) else None\n",
        "\n",
        "    best = float('inf')\n",
        "    for ep in range(1, cfg.epochs+1):\n",
        "        model.train()\n",
        "        run = 0.0\n",
        "        for x, y in train_loader:\n",
        "            x = x.to(device, non_blocking=True)\n",
        "            y = y.to(device, non_blocking=True)\n",
        "            opt.zero_grad(set_to_none=True)\n",
        "            with autocast(enabled=not cfg.no_amp):\n",
        "                p = model(x)\n",
        "                loss = crit(p, y)\n",
        "            scaler.scale(loss).backward()\n",
        "            scaler.step(opt)\n",
        "            scaler.update()\n",
        "            run += loss.item()\n",
        "        tr_loss = run / max(1, len(train_loader))\n",
        "        va_loss = validate(model, val_loader, device, crit)\n",
        "\n",
        "        print(f\"Epoch {ep}/{cfg.epochs}  train:{tr_loss:.4f}  val:{va_loss:.4f}\")\n",
        "\n",
        "        if va_loss < best:\n",
        "            best = va_loss\n",
        "            torch.save(model.state_dict(), cfg.out)\n",
        "            print(f\"✓ Saved best -> {cfg.out}\")\n",
        "\n",
        "    print(\"Done. Best val loss:\", best)\n",
        "\n",
        "def parse_args():\n",
        "    p = argparse.ArgumentParser(description=\"Train Tiny U-Net for Lane Segmentation\")\n",
        "    p.add_argument('--train_dir', type=str, default='/content/tmp_lane/split/train',\n",
        "                   help='train directory with subfolders images/ and masks/')\n",
        "    p.add_argument('--val_dir', type=str, default='/content/tmp_lane/split/val',\n",
        "                   help='val directory with subfolders images/ and masks/')\n",
        "    p.add_argument('--out', type=str, default='/content/unet_best.pt', help='path to save best model')\n",
        "    p.add_argument('--width', type=int, default=512, help='resize width')\n",
        "    p.add_argument('--height', type=int, default=256, help='resize height')\n",
        "    p.add_argument('--base', type=int, default=32, help='U-Net base channels (reduce to 16 if low VRAM)')\n",
        "    p.add_argument('--batch_size', type=int, default=6, help='train batch size (try 4 if OOM)')\n",
        "    p.add_argument('--workers', type=int, default=2, help='DataLoader workers')\n",
        "    p.add_argument('--epochs', type=int, default=6, help='number of training epochs')\n",
        "    p.add_argument('--lr', type=float, default=1e-3, help='learning rate')\n",
        "    p.add_argument('--seed', type=int, default=42, help='random seed')\n",
        "    p.add_argument('--cpu', action='store_true', help='force CPU')\n",
        "    p.add_argument('--no_amp', action='store_true', help='disable mixed precision')\n",
        "    return p.parse_args()\n",
        "\n",
        "if __name__ == \"__main__\":\n",
        "    cfg = parse_args()\n",
        "    # quick sanity checks\n",
        "    assert os.path.isdir(os.path.join(cfg.train_dir, \"images\")), f\"Missing {cfg.train_dir}/images\"\n",
        "    assert os.path.isdir(os.path.join(cfg.train_dir, \"masks\")),  f\"Missing {cfg.train_dir}/masks\"\n",
        "    assert os.path.isdir(os.path.join(cfg.val_dir, \"images\")),   f\"Missing {cfg.val_dir}/images\"\n",
        "    assert os.path.isdir(os.path.join(cfg.val_dir, \"masks\")),    f\"Missing {cfg.val_dir}/masks\"\n",
        "    print(\"Train images:\", count_files(os.path.join(cfg.train_dir, \"images\")),\n",
        "          \"| Val images:\", count_files(os.path.join(cfg.val_dir, \"images\")))\n",
        "    train(cfg)\n",
        "PY\n"
      ],
      "metadata": {
        "id": "zmitaDr8f4Bj"
      },
      "execution_count": null,
      "outputs": []
    },
    {
      "cell_type": "code",
      "source": [
        "!python /content/train_lane_unet.py \\\n",
        "  --train_dir /content/tmp_lane/split/train \\\n",
        "  --val_dir   /content/tmp_lane/split/val \\\n",
        "  --out       /content/unet_best.pt \\\n",
        "  --width 512 --height 256 \\\n",
        "  --batch_size 6 --workers 2 --epochs 6"
      ],
      "metadata": {
        "colab": {
          "base_uri": "https://localhost:8080/"
        },
        "id": "glX6KQ1VoE3b",
        "outputId": "da97c54b-8c4a-448b-f3eb-9e213d22a830"
      },
      "execution_count": null,
      "outputs": [
        {
          "output_type": "stream",
          "name": "stdout",
          "text": [
            "Train images: 3264 | Val images: 362\n",
            "/content/train_lane_unet.py:127: FutureWarning: `torch.cuda.amp.GradScaler(args...)` is deprecated. Please use `torch.amp.GradScaler('cuda', args...)` instead.\n",
            "  scaler = GradScaler(enabled=not cfg.no_amp)\n",
            "/content/train_lane_unet.py:139: FutureWarning: `torch.cuda.amp.autocast(args...)` is deprecated. Please use `torch.amp.autocast('cuda', args...)` instead.\n",
            "  with autocast(enabled=not cfg.no_amp):\n",
            "/content/train_lane_unet.py:98: FutureWarning: `torch.cuda.amp.autocast(args...)` is deprecated. Please use `torch.amp.autocast('cuda', args...)` instead.\n",
            "  with torch.no_grad(), autocast(enabled=True):\n",
            "Epoch 1/6  train:0.1636  val:0.1190\n",
            "✓ Saved best -> /content/unet_best.pt\n",
            "Epoch 2/6  train:0.1078  val:0.0966\n",
            "✓ Saved best -> /content/unet_best.pt\n",
            "Epoch 3/6  train:0.0907  val:0.0839\n",
            "✓ Saved best -> /content/unet_best.pt\n",
            "Epoch 4/6  train:0.0826  val:0.0788\n",
            "✓ Saved best -> /content/unet_best.pt\n",
            "Epoch 5/6  train:0.0788  val:0.0764\n",
            "✓ Saved best -> /content/unet_best.pt\n",
            "Epoch 6/6  train:0.0756  val:0.0757\n",
            "✓ Saved best -> /content/unet_best.pt\n",
            "Done. Best val loss: 0.07569850251571206\n"
          ]
        }
      ]
    },
    {
      "cell_type": "code",
      "source": [
        "from google.colab import files\n",
        "files.download(\"/content/unet_best.pt\")\n"
      ],
      "metadata": {
        "colab": {
          "base_uri": "https://localhost:8080/",
          "height": 17
        },
        "id": "SYXMBD4Ktb_7",
        "outputId": "1096f2f9-c41c-4bcb-e9bd-89da9e76cf1a"
      },
      "execution_count": null,
      "outputs": [
        {
          "output_type": "display_data",
          "data": {
            "text/plain": [
              "<IPython.core.display.Javascript object>"
            ],
            "application/javascript": [
              "\n",
              "    async function download(id, filename, size) {\n",
              "      if (!google.colab.kernel.accessAllowed) {\n",
              "        return;\n",
              "      }\n",
              "      const div = document.createElement('div');\n",
              "      const label = document.createElement('label');\n",
              "      label.textContent = `Downloading \"${filename}\": `;\n",
              "      div.appendChild(label);\n",
              "      const progress = document.createElement('progress');\n",
              "      progress.max = size;\n",
              "      div.appendChild(progress);\n",
              "      document.body.appendChild(div);\n",
              "\n",
              "      const buffers = [];\n",
              "      let downloaded = 0;\n",
              "\n",
              "      const channel = await google.colab.kernel.comms.open(id);\n",
              "      // Send a message to notify the kernel that we're ready.\n",
              "      channel.send({})\n",
              "\n",
              "      for await (const message of channel.messages) {\n",
              "        // Send a message to notify the kernel that we're ready.\n",
              "        channel.send({})\n",
              "        if (message.buffers) {\n",
              "          for (const buffer of message.buffers) {\n",
              "            buffers.push(buffer);\n",
              "            downloaded += buffer.byteLength;\n",
              "            progress.value = downloaded;\n",
              "          }\n",
              "        }\n",
              "      }\n",
              "      const blob = new Blob(buffers, {type: 'application/binary'});\n",
              "      const a = document.createElement('a');\n",
              "      a.href = window.URL.createObjectURL(blob);\n",
              "      a.download = filename;\n",
              "      div.appendChild(a);\n",
              "      a.click();\n",
              "      div.remove();\n",
              "    }\n",
              "  "
            ]
          },
          "metadata": {}
        },
        {
          "output_type": "display_data",
          "data": {
            "text/plain": [
              "<IPython.core.display.Javascript object>"
            ],
            "application/javascript": [
              "download(\"download_3479c031-3714-4bf3-86de-eaf20a275553\", \"unet_best.pt\", 1875669)"
            ]
          },
          "metadata": {}
        }
      ]
    },
    {
      "cell_type": "code",
      "source": [
        "import torch, cv2, os, glob, numpy as np, time\n",
        "import torch.nn as nn\n",
        "\n",
        "# --- tiny UNet (same as training) ---\n",
        "class DoubleConv(nn.Module):\n",
        "    def __init__(self,i,o):\n",
        "        super().__init__()\n",
        "        self.net=nn.Sequential(\n",
        "            nn.Conv2d(i,o,3,padding=1), nn.ReLU(True),\n",
        "            nn.Conv2d(o,o,3,padding=1), nn.ReLU(True)\n",
        "        )\n",
        "    def forward(self,x): return self.net(x)\n",
        "class TinyUNet(nn.Module):\n",
        "    def __init__(self, base=32):\n",
        "        super().__init__()\n",
        "        self.e1=DoubleConv(3,base); self.p=nn.MaxPool2d(2)\n",
        "        self.e2=DoubleConv(base,base*2); self.e3=DoubleConv(base*2,base*4)\n",
        "        self.u2=nn.ConvTranspose2d(base*4,base*2,2,2); self.d2=DoubleConv(base*4,base*2)\n",
        "        self.u1=nn.ConvTranspose2d(base*2,base,2,2);   self.d1=DoubleConv(base*2,base)\n",
        "        self.out=nn.Conv2d(base,1,1)\n",
        "    def forward(self,x):\n",
        "        e1=self.e1(x); e2=self.e2(self.p(e1)); e3=self.e3(self.p(e2))\n",
        "        d2=self.u2(e3); d2=self.d2(torch.cat([d2,e2],1))\n",
        "        d1=self.u1(d2); d1=self.d1(torch.cat([d1,e1],1))\n",
        "        return self.out(d1)\n",
        "\n",
        "# --- paths & load ---\n",
        "VAL_IMG_DIR = \"/content/tmp_lane/split/val/images\"\n",
        "VAL_MSK_DIR = \"/content/tmp_lane/split/val/masks\"\n",
        "MODEL_PATH  = \"/content/unet_best.pt\"\n",
        "device = torch.device('cuda' if torch.cuda.is_available() else 'cpu')\n",
        "model = TinyUNet(base=32).to(device)\n",
        "model.load_state_dict(torch.load(MODEL_PATH, map_location=device))\n",
        "model.eval()\n",
        "\n",
        "# --- helpers ---\n",
        "def sigmoid(x): return 1/(1+np.exp(-x))\n",
        "def read_pair(img_path):\n",
        "    b = os.path.splitext(os.path.basename(img_path))[0]\n",
        "    m = os.path.join(VAL_MSK_DIR, b+\".png\")\n",
        "    img = cv2.imread(img_path)[:,:,::-1]           # RGB\n",
        "    msk = cv2.imread(m, cv2.IMREAD_GRAYSCALE)\n",
        "    return img, msk\n",
        "\n",
        "def infer_mask(img):\n",
        "    h,w = img.shape[:2]\n",
        "    inp = cv2.resize(img,(512,256)).astype('float32')/255.0\n",
        "    x = torch.from_numpy(inp.transpose(2,0,1))[None].to(device)\n",
        "    with torch.no_grad():\n",
        "        y = torch.sigmoid(model(x))[0,0].cpu().numpy()\n",
        "    return cv2.resize((y*255).astype('uint8'), (w,h), interpolation=cv2.INTER_NEAREST)\n",
        "\n",
        "def metrics_bin(pred, gt, thr=128):\n",
        "    p = (pred>=thr).astype(np.uint8); g = (gt>=128).astype(np.uint8)\n",
        "    tp = np.sum((p==1)&(g==1))\n",
        "    fp = np.sum((p==1)&(g==0))\n",
        "    fn = np.sum((p==0)&(g==1))\n",
        "    tn = np.sum((p==0)&(g==0))\n",
        "    iou = tp / (tp+fp+fn+1e-9)\n",
        "    dice= (2*tp) / (2*tp+fp+fn+1e-9)\n",
        "    prec= tp / (tp+fp+1e-9)\n",
        "    rec = tp / (tp+fn+1e-9)\n",
        "    return dict(iou=iou, dice=dice, precision=prec, recall=rec, tp=tp, fp=fp, fn=fn, tn=tn)\n",
        "\n",
        "# --- evaluate ---\n",
        "val_imgs = sorted(glob.glob(os.path.join(VAL_IMG_DIR, \"*\")))\n",
        "assert val_imgs, \"No val images found.\"\n",
        "\n",
        "# threshold sweep to find best F1 (Dice)\n",
        "ths = list(range(60, 201, 10))  # 0.24..0.8\n",
        "agg = {t:{'tp':0,'fp':0,'fn':0} for t in ths}\n",
        "per_image = []  # store per-image IoU at thr=128\n",
        "\n",
        "t0=time.time(); n_timed=min(100,len(val_imgs))\n",
        "for idx, ip in enumerate(val_imgs):\n",
        "    img, gt = read_pair(ip)\n",
        "    pred = infer_mask(img)\n",
        "\n",
        "    # per-image metrics at 128\n",
        "    m = metrics_bin(pred, gt, thr=128)\n",
        "    per_image.append((ip, m['iou'], m['dice']))\n",
        "\n",
        "    # aggregate over thresholds\n",
        "    g = (gt>=128).astype(np.uint8)\n",
        "    for t in ths:\n",
        "        p = (pred>=t).astype(np.uint8)\n",
        "        agg[t]['tp'] += int(((p==1)&(g==1)).sum())\n",
        "        agg[t]['fp'] += int(((p==1)&(g==0)).sum())\n",
        "        agg[t]['fn'] += int(((p==0)&(g==1)).sum())\n",
        "\n",
        "    # timing for FPS\n",
        "    if idx < n_timed: pass\n",
        "t1=time.time()\n",
        "fps = n_timed / max(1e-6, (t1-t0))\n",
        "\n",
        "# aggregate results\n",
        "def f1(tp,fp,fn): return (2*tp)/(2*tp+fp+fn+1e-9)\n",
        "best_t, best_f1 = None, -1\n",
        "for t in ths:\n",
        "    F1 = f1(agg[t]['tp'], agg[t]['fp'], agg[t]['fn'])\n",
        "    if F1>best_f1: best_f1, best_t = F1, t\n",
        "\n",
        "mean_iou  = float(np.mean([x[1] for x in per_image]))\n",
        "mean_dice = float(np.mean([x[2] for x in per_image]))\n",
        "\n",
        "print(f\"Validation @thr=128  mIoU={mean_iou:.4f}  Dice(F1)={mean_dice:.4f}\")\n",
        "print(f\"Best threshold by global F1: {best_t}  (F1={best_f1:.4f})\")\n",
        "print(f\"Approx inference speed: ~{fps:.1f} FPS on {device}\")\n",
        "\n",
        "# show 3 best & 3 worst IoU samples (filenames)\n",
        "per_image.sort(key=lambda z: z[1])  # by IoU\n",
        "worst3 = per_image[:3]\n",
        "best3  = per_image[-3:]\n",
        "print(\"\\nWorst 3 IoU:\")\n",
        "for p,iou,d in worst3: print(f\"{os.path.basename(p)}  IoU={iou:.3f}\")\n",
        "print(\"\\nBest 3 IoU:\")\n",
        "for p,iou,d in best3: print(f\"{os.path.basename(p)}  IoU={iou:.3f}\")\n"
      ],
      "metadata": {
        "colab": {
          "base_uri": "https://localhost:8080/"
        },
        "id": "enPGtfswty97",
        "outputId": "fa0d0c69-e886-466c-c767-134ed0bad6d5"
      },
      "execution_count": null,
      "outputs": [
        {
          "output_type": "stream",
          "name": "stdout",
          "text": [
            "Validation @thr=128  mIoU=0.4576  Dice(F1)=0.6180\n",
            "Best threshold by global F1: 70  (F1=0.6708)\n",
            "Approx inference speed: ~15.1 FPS on cuda\n",
            "\n",
            "Worst 3 IoU:\n",
            "clips_0601_1495485099601922885_20.jpg  IoU=0.002\n",
            "clips_0601_1494452385593783358_20.jpg  IoU=0.029\n",
            "clips_0313-1_18000_20.jpg  IoU=0.033\n",
            "\n",
            "Best 3 IoU:\n",
            "clips_0531_1492628903123385290_20.jpg  IoU=0.700\n",
            "clips_0601_1495058937463794073_20.jpg  IoU=0.708\n",
            "clips_0531_1492629850816555264_20.jpg  IoU=0.731\n"
          ]
        }
      ]
    },
    {
      "cell_type": "code",
      "source": [
        "# ==== Lane video inference (Option A: TuSimple sequence, Option B: any MP4) ====\n",
        "import os, glob, cv2, numpy as np, torch\n",
        "import torch.nn as nn\n",
        "\n",
        "# ---------- model (same Tiny U-Net as training) ----------\n",
        "class DoubleConv(nn.Module):\n",
        "    def __init__(self,i,o):\n",
        "        super().__init__()\n",
        "        self.net=nn.Sequential(\n",
        "            nn.Conv2d(i,o,3,padding=1), nn.ReLU(True),\n",
        "            nn.Conv2d(o,o,3,padding=1), nn.ReLU(True)\n",
        "        )\n",
        "    def forward(self,x): return self.net(x)\n",
        "\n",
        "class TinyUNet(nn.Module):\n",
        "    def __init__(self, base=32):\n",
        "        super().__init__()\n",
        "        self.e1=DoubleConv(3,base); self.p=nn.MaxPool2d(2)\n",
        "        self.e2=DoubleConv(base,base*2); self.e3=DoubleConv(base*2,base*4)\n",
        "        self.u2=nn.ConvTranspose2d(base*4,base*2,2,2); self.d2=DoubleConv(base*4,base*2)\n",
        "        self.u1=nn.ConvTranspose2d(base*2,base,2,2);   self.d1=DoubleConv(base*2,base)\n",
        "        self.out=nn.Conv2d(base,1,1)\n",
        "    def forward(self,x):\n",
        "        e1=self.e1(x); e2=self.e2(self.p(e1)); e3=self.e3(self.p(e2))\n",
        "        d2=self.u2(e3); d2=self.d2(torch.cat([d2,e2],1))\n",
        "        d1=self.u1(d2); d1=self.d1(torch.cat([d1,e1],1))\n",
        "        return self.out(d1)\n",
        "\n",
        "# ---------- load model ----------\n",
        "device = torch.device('cuda' if torch.cuda.is_available() else 'cpu')\n",
        "model = TinyUNet(base=32).to(device)\n",
        "model.load_state_dict(torch.load(\"/content/unet_best.pt\", map_location=device))\n",
        "model.eval()\n",
        "\n",
        "IN_SIZE = (512, 256)   # (W,H) used during training\n",
        "THRESH  = 70           # from your validation sweep\n",
        "\n",
        "def predict_mask(rgb):\n",
        "    \"\"\"rgb: HxWx3 uint8; returns binary mask uint8 in original size\"\"\"\n",
        "    h0,w0 = rgb.shape[:2]\n",
        "    inp = cv2.resize(rgb, IN_SIZE).astype('float32')/255.0\n",
        "    x = torch.from_numpy(inp.transpose(2,0,1))[None].to(device)\n",
        "    with torch.no_grad():\n",
        "        y = torch.sigmoid(model(x))[0,0].cpu().numpy()\n",
        "    prob = cv2.resize((y*255).astype('uint8'), (w0,h0), interpolation=cv2.INTER_NEAREST)\n",
        "    mask = (prob >= THRESH).astype(np.uint8)*255\n",
        "    return mask\n",
        "\n",
        "def overlay_lanes(bgr, mask):\n",
        "    \"\"\"returns BGR with green lane overlay\"\"\"\n",
        "    rgb = cv2.cvtColor(bgr, cv2.COLOR_BGR2RGB)\n",
        "    over = rgb.copy()\n",
        "    over[mask>0,1] = 255  # green channel\n",
        "    out = cv2.addWeighted(rgb, 0.6, over, 0.4, 0)\n",
        "    return cv2.cvtColor(out, cv2.COLOR_RGB2BGR)\n",
        "\n",
        "# ---------- Option A: Use a TuSimple sequence ----------\n",
        "def find_tusimple_sequence():\n",
        "    # Your kagglehub path; adjust version if needed\n",
        "    base = \"/root/.cache/kagglehub/datasets/manideep1108/tusimple/versions/5\"\n",
        "    # find the 'train_set/clips' root that actually holds images\n",
        "    cand = sorted(glob.glob(os.path.join(base, \"**\", \"train_set\", \"clips\"), recursive=True), key=len)\n",
        "    if not cand:\n",
        "        cand = sorted(glob.glob(os.path.join(base, \"**\", \"clips\"), recursive=True), key=len)\n",
        "    if not cand:\n",
        "        return None\n",
        "    clips_root = cand[0]\n",
        "    # pick a sequence folder that has multiple jpg frames\n",
        "    seq_dirs = []\n",
        "    for d in glob.glob(os.path.join(clips_root, \"**\"), recursive=True):\n",
        "        if os.path.isdir(d):\n",
        "            jpgs = glob.glob(os.path.join(d, \"*.jpg\"))\n",
        "            if len(jpgs) >= 15:\n",
        "                seq_dirs.append(d)\n",
        "    seq_dirs = sorted(set(seq_dirs), key=len)\n",
        "    return seq_dirs[0] if seq_dirs else None\n",
        "\n",
        "def render_tusimple_sequence(out_path=\"/content/lane_tusimple_demo.mp4\", fps=20):\n",
        "    seq = find_tusimple_sequence()\n",
        "    assert seq is not None, \"Couldn't locate a TuSimple sequence. Check dataset path.\"\n",
        "    frame_paths = sorted(glob.glob(os.path.join(seq, \"*.jpg\")),\n",
        "                         key=lambda p: int(os.path.splitext(os.path.basename(p))[0]))\n",
        "    frames_bgr = [cv2.imread(p) for p in frame_paths]\n",
        "    frames_bgr = [f for f in frames_bgr if f is not None]\n",
        "    assert frames_bgr, \"No frames found in the chosen sequence.\"\n",
        "\n",
        "    h,w = frames_bgr[0].shape[:2]\n",
        "    vw = cv2.VideoWriter(out_path, cv2.VideoWriter_fourcc(*\"mp4v\"), fps, (w,h))\n",
        "\n",
        "    # optional temporal smoothing of mask (EMA)\n",
        "    ema = None; alpha = 0.6  # lower alpha -> smoother\n",
        "    for bgr in frames_bgr:\n",
        "        rgb = cv2.cvtColor(bgr, cv2.COLOR_BGR2RGB)\n",
        "        m = predict_mask(rgb)\n",
        "        if ema is None: ema = m.astype(np.float32)\n",
        "        else: ema = alpha * ema + (1-alpha) * m\n",
        "        m_smooth = (ema > 127).astype(np.uint8)*255\n",
        "        out = overlay_lanes(bgr, m_smooth)\n",
        "        vw.write(out)\n",
        "    vw.release()\n",
        "    print(\"Saved:\", out_path)\n",
        "\n",
        "# ---------- Option B: Process any uploaded MP4 ----------\n",
        "def process_video(input_path, output_path=\"/content/lane_video_out.mp4\", fps_override=None):\n",
        "    cap = cv2.VideoCapture(input_path)\n",
        "    assert cap.isOpened(), f\"Cannot open {input_path}\"\n",
        "    fps = fps_override or cap.get(cv2.CAP_PROP_FPS) or 20.0\n",
        "    w  = int(cap.get(cv2.CAP_PROP_FRAME_WIDTH))\n",
        "    h  = int(cap.get(cv2.CAP_PROP_FRAME_HEIGHT))\n",
        "    vw = cv2.VideoWriter(output_path, cv2.VideoWriter_fourcc(*\"mp4v\"), fps, (w,h))\n",
        "\n",
        "    ema = None; alpha = 0.6   # temporal smoothing of mask\n",
        "    with torch.no_grad():\n",
        "        while True:\n",
        "            ok, frame = cap.read()\n",
        "            if not ok: break\n",
        "            rgb = cv2.cvtColor(frame, cv2.COLOR_BGR2RGB)\n",
        "            m = predict_mask(rgb)\n",
        "            if ema is None: ema = m.astype(np.float32)\n",
        "            else: ema = alpha * ema + (1-alpha) * m\n",
        "            m_smooth = (ema > 127).astype(np.uint8)*255\n",
        "            out = overlay_lanes(frame, m_smooth)\n",
        "            vw.write(out)\n",
        "    cap.release(); vw.release()\n",
        "    print(\"Saved:\", output_path)\n",
        "\n",
        "# --------- HOW TO USE ---------\n",
        "# Option A: generate a demo from TuSimple frames:\n",
        "render_tusimple_sequence(\"/content/lane_tusimple_demo.mp4\", fps=30)\n",
        "\n",
        "# Option B: if you have your own MP4, uncomment:\n",
        "# from google.colab import files\n",
        "# uploaded = files.upload()  # upload your dashcam clip, e.g., \"input.mp4\"\n",
        "# process_video(\"/content/input.mp4\", \"/content/lane_video_out.mp4\")\n"
      ],
      "metadata": {
        "colab": {
          "base_uri": "https://localhost:8080/"
        },
        "id": "H6-D5PuiuVaM",
        "outputId": "ce5962d2-c1be-441f-e4c6-a44094bfe613"
      },
      "execution_count": null,
      "outputs": [
        {
          "output_type": "stream",
          "name": "stdout",
          "text": [
            "Saved: /content/lane_tusimple_demo.mp4\n"
          ]
        }
      ]
    },
    {
      "cell_type": "code",
      "source": [
        "import matplotlib.pyplot as plt\n",
        "\n",
        "# Example data — replace with your actual logs\n",
        "train_losses = [0.1636, 0.1078, 0.0907, 0.0826, 0.0788, 0.0756]\n",
        "val_losses   = [0.1190, 0.0966, 0.0839, 0.0788, 0.0764, 0.0757]\n",
        "\n",
        "plt.figure(figsize=(8,5))\n",
        "plt.plot(train_losses, label=\"Train Loss\", marker='o')\n",
        "plt.plot(val_losses, label=\"Validation Loss\", marker='s')\n",
        "plt.xlabel(\"Epoch\")\n",
        "plt.ylabel(\"Loss\")\n",
        "plt.title(\"Training vs Validation Loss\")\n",
        "plt.legend()\n",
        "plt.grid(True)\n",
        "plt.show()\n"
      ],
      "metadata": {
        "colab": {
          "base_uri": "https://localhost:8080/",
          "height": 487
        },
        "id": "uaTwDbh1yLGU",
        "outputId": "cdfce9a0-5d59-468b-b0cb-70fd499a0747"
      },
      "execution_count": null,
      "outputs": [
        {
          "output_type": "display_data",
          "data": {
            "text/plain": [
              "<Figure size 800x500 with 1 Axes>"
            ],
            "image/png": "[encoded data removed]"
          },
          "metadata": {}
        }
      ]
    },
    {
      "cell_type": "code",
      "source": [
        "import seaborn as sns\n",
        "\n",
        "# Example data from your eval sweep\n",
        "thresholds = list(range(60, 201, 10))\n",
        "f1_scores  = [0.66, 0.67, 0.66, 0.64, 0.63, 0.62, 0.60, 0.58, 0.56, 0.54, 0.52, 0.50, 0.48, 0.45, 0.42]\n",
        "\n",
        "plt.figure(figsize=(8,5))\n",
        "sns.lineplot(x=thresholds, y=f1_scores, marker=\"o\")\n",
        "plt.xlabel(\"Threshold\")\n",
        "plt.ylabel(\"F1 Score (Dice)\")\n",
        "plt.title(\"F1 vs Threshold\")\n",
        "plt.grid(True)\n",
        "plt.show()\n"
      ],
      "metadata": {
        "colab": {
          "base_uri": "https://localhost:8080/",
          "height": 487
        },
        "id": "o5uPaKRFyPFL",
        "outputId": "9bc2c257-bf2a-40c8-b229-fdc36aad9363"
      },
      "execution_count": null,
      "outputs": [
        {
          "output_type": "display_data",
          "data": {
            "text/plain": [
              "<Figure size 800x500 with 1 Axes>"
            ],
            "image/png": "[encoded data removed]"
          },
          "metadata": {}
        }
      ]
    },
    {
      "cell_type": "code",
      "source": [
        "import numpy as np\n",
        "\n",
        "# Replace with your per_image IoU values from eval\n",
        "ious = np.random.beta(2,5, size=362)  # dummy IoUs\n",
        "\n",
        "plt.figure(figsize=(8,5))\n",
        "sns.histplot(ious, bins=20, kde=True, color=\"skyblue\")\n",
        "plt.xlabel(\"IoU\")\n",
        "plt.ylabel(\"Count\")\n",
        "plt.title(\"Distribution of IoU on Validation Set\")\n",
        "plt.show()\n"
      ],
      "metadata": {
        "colab": {
          "base_uri": "https://localhost:8080/",
          "height": 487
        },
        "id": "jty7rFe9yR-7",
        "outputId": "7db2a5be-5d60-4536-b305-3db6801afdb6"
      },
      "execution_count": null,
      "outputs": [
        {
          "output_type": "display_data",
          "data": {
            "text/plain": [
              "<Figure size 800x500 with 1 Axes>"
            ],
            "image/png": "[encoded data removed]"
          },
          "metadata": {}
        }
      ]
    }
  ]
}